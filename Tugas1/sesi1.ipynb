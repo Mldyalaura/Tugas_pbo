{
  "nbformat": 4,
  "nbformat_minor": 0,
  "metadata": {
    "colab": {
      "provenance": [],
      "authorship_tag": "ABX9TyPAb2Hje8tVhZrtN5x2cQZz",
      "include_colab_link": true
    },
    "kernelspec": {
      "name": "python3",
      "display_name": "Python 3"
    },
    "language_info": {
      "name": "python"
    }
  },
  "cells": [
    {
      "cell_type": "markdown",
      "metadata": {
        "id": "view-in-github",
        "colab_type": "text"
      },
      "source": [
        "<a href=\"https://colab.research.google.com/github/Mldyalaura/Tugas_pbo/blob/main/Tugas1/sesi1.ipynb\" target=\"_parent\"><img src=\"https://colab.research.google.com/assets/colab-badge.svg\" alt=\"Open In Colab\"/></a>"
      ]
    },
    {
      "cell_type": "markdown",
      "source": [
        "Sintaks Print"
      ],
      "metadata": {
        "id": "LXkJSObBdiNX"
      }
    },
    {
      "cell_type": "code",
      "execution_count": 1,
      "metadata": {
        "colab": {
          "base_uri": "https://localhost:8080/"
        },
        "id": "WVDUHff-ckoS",
        "outputId": "db6ed808-aba0-4555-d9fb-3332f4ef2bfd"
      },
      "outputs": [
        {
          "output_type": "stream",
          "name": "stdout",
          "text": [
            "Maulidya Laura\n",
            "Undergraduate of Information Technology\n",
            "UIN Ar-Raniry\n",
            "Jalan Syech Abdurrauf Kopelma Darussalam\n",
            "Banda Aceh 23111\n",
            "Indonesia\n"
          ]
        }
      ],
      "source": [
        "# Menampilkan alamat lengkap seseorang\n",
        "\n",
        "print(\"Maulidya Laura\")\n",
        "print(\"Undergraduate of Information Technology\")\n",
        "print(\"UIN Ar-Raniry\")\n",
        "print(\"Jalan Syech Abdurrauf Kopelma Darussalam\")\n",
        "print(\"Banda Aceh 23111\")\n",
        "print(\"Indonesia\")"
      ]
    },
    {
      "cell_type": "markdown",
      "source": [
        "Menghitung Luas Kamar"
      ],
      "metadata": {
        "id": "4qBFDKPXdn7E"
      }
    },
    {
      "cell_type": "code",
      "source": [
        "# Menghitung luas kamar\n",
        "\n",
        "# Membaca angka yang dimasukkan oleh user\n",
        "panjang = float(input(\"Masukkan ukuran panjang dalam satuan meter \"))\n",
        "lebar = float(input(\"Masukkan ukuran lebar dalam satuan meter \"))\n",
        "\n",
        "# Proses perhitungan luas\n",
        "luas = panjang * lebar\n",
        "\n",
        "# Tampilkan hasil\n",
        "print(\"Luas dari kamar ini adalah\", luas, \"meter kuadrat\")"
      ],
      "metadata": {
        "colab": {
          "base_uri": "https://localhost:8080/"
        },
        "id": "cpOde4Nhc_Hx",
        "outputId": "4a3f31fc-52c3-45b3-feab-7eae20feebe8"
      },
      "execution_count": 2,
      "outputs": [
        {
          "output_type": "stream",
          "name": "stdout",
          "text": [
            "Masukkan ukuran panjang dalam satuan meter 5\n",
            "Masukkan ukuran lebar dalam satuan meter 10\n",
            "Luas dari kamar ini adalah 50.0 meter kuadrat\n"
          ]
        }
      ]
    },
    {
      "cell_type": "markdown",
      "source": [
        "Menhitung jumlah bilangan"
      ],
      "metadata": {
        "id": "u7cGtYVhduEo"
      }
    },
    {
      "cell_type": "code",
      "source": [
        "# Menghitung jumlah dari bilangan positif pertama\n",
        "\n",
        "# Membaca angka yang dimasukkan oleh user\n",
        "n = int(input(\"Masukkan bilangan bulat positif:\"))\n",
        "\n",
        "# Proses Menghitung jumlah\n",
        "sm = n * (n+1) / 2\n",
        "\n",
        "# Tampilkan hasil\n",
        "print(\"Jumlah pertama dari \", n, \"bilangan positif adalah\", sm)"
      ],
      "metadata": {
        "colab": {
          "base_uri": "https://localhost:8080/"
        },
        "id": "vRT21qksdbWt",
        "outputId": "563bfc77-3b69-40e6-b79a-f53c4fcd514e"
      },
      "execution_count": 3,
      "outputs": [
        {
          "output_type": "stream",
          "name": "stdout",
          "text": [
            "Masukkan bilangan bulat positif:7\n",
            "Jumlah pertama dari  7 bilangan positif adalah 28.0\n"
          ]
        }
      ]
    },
    {
      "cell_type": "markdown",
      "source": [
        "Fungsi Aritmatika"
      ],
      "metadata": {
        "id": "qlVC3pjoepm6"
      }
    },
    {
      "cell_type": "code",
      "source": [
        "# Pengenalan operator matematika pada Python dan modul math\n",
        "\n",
        "from math import log10\n",
        "\n",
        "# Membaca input dari user\n",
        "x = int (input(\"Masukkan bilangan dari x:\"))\n",
        "y = int (input(\"Masukkan bilangan dari y:\"))\n",
        "\n",
        "# Menghitung dan menampilkan operator matematika\n",
        "print(x, \"+\", y, \"adalah\", x + y)\n",
        "print(x, \"-\", y, \"adalah\", x - y)\n",
        "print(x, \"*\", y, \"adalah\", x * y)\n",
        "print(x, \"/\", y, \"adalah\", x / y)\n",
        "print(x, \"%\", y, \"adalah\", x % y)\n",
        "\n",
        "# Menghitung logaritma dan pangkat\n",
        "print(\"Logaritma basis 10 dari\", x, \"adalah\", log10(x))\n",
        "print(x, \"^\", y, \"adalah\", x**y)"
      ],
      "metadata": {
        "colab": {
          "base_uri": "https://localhost:8080/"
        },
        "id": "F5OO3ghoetgw",
        "outputId": "333e557f-b31c-41ad-aebe-3a607740ec35"
      },
      "execution_count": 4,
      "outputs": [
        {
          "output_type": "stream",
          "name": "stdout",
          "text": [
            "Masukkan bilangan dari x:10\n",
            "Masukkan bilangan dari y:5\n",
            "10 + 5 adalah 15\n",
            "10 - 5 adalah 5\n",
            "10 * 5 adalah 50\n",
            "10 / 5 adalah 2.0\n",
            "10 % 5 adalah 0\n",
            "Logaritma basis 10 dari 10 adalah 1.0\n",
            "10 ^ 5 adalah 100000\n"
          ]
        }
      ]
    }
  ]
}