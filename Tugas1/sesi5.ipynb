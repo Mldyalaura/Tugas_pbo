{
  "nbformat": 4,
  "nbformat_minor": 0,
  "metadata": {
    "colab": {
      "provenance": [],
      "authorship_tag": "ABX9TyPmxfB29m/JVsEgy9lLOD7E",
      "include_colab_link": true
    },
    "kernelspec": {
      "name": "python3",
      "display_name": "Python 3"
    },
    "language_info": {
      "name": "python"
    }
  },
  "cells": [
    {
      "cell_type": "markdown",
      "metadata": {
        "id": "view-in-github",
        "colab_type": "text"
      },
      "source": [
        "<a href=\"https://colab.research.google.com/github/Mldyalaura/Tugas_pbo/blob/main/Tugas1/sesi5.ipynb\" target=\"_parent\"><img src=\"https://colab.research.google.com/assets/colab-badge.svg\" alt=\"Open In Colab\"/></a>"
      ]
    },
    {
      "cell_type": "markdown",
      "source": [
        "**Program Membuat List**"
      ],
      "metadata": {
        "id": "-2A2_f4XtjBQ"
      }
    },
    {
      "cell_type": "code",
      "execution_count": 6,
      "metadata": {
        "colab": {
          "base_uri": "https://localhost:8080/"
        },
        "id": "XFKN6xswtaWF",
        "outputId": "6bb99c99-b4d2-4c8a-eea3-ef41f3e31cd7"
      },
      "outputs": [
        {
          "output_type": "stream",
          "name": "stdout",
          "text": [
            "list1[0]:  a\n",
            "list2[2:4]:  ['bahasa inggris', 2019]\n",
            "list3[1:5]:  [2, 3, 4, 5]\n"
          ]
        }
      ],
      "source": [
        "# Pembuatan list pada bahasa pemrograman python\n",
        "list1 = [\"a\", \"b\", \"c\", \"d\"]\n",
        "list2 = ['bahasa arab', 'bahasa aceh', 'bahasa inggris', 2019, 2020, 2025]\n",
        "list3 = [1, 2, 3, 4, 5, 6, 7 ]\n",
        "\n",
        "\n",
        "# Mengakses Nilai list dalam Python\n",
        "print (\"list1[0]: \", list1[0])\n",
        "print (\"list2[2:4]: \", list2[2:4])\n",
        "print (\"list3[1:5]: \", list3[1:5])"
      ]
    },
    {
      "cell_type": "markdown",
      "source": [
        "**Mengupdate Nilai pada List**"
      ],
      "metadata": {
        "id": "SCONrOn0u62S"
      }
    },
    {
      "cell_type": "code",
      "source": [
        "# Pembuatan list dan mengakses nilai list pada indeks 3\n",
        "ist = ['bahasa arab', 'bahasa aceh', 'bahasa inggris', 2019, 2020]\n",
        "print (\"Nilai ada pada index 3 adalah: \", ist[3])\n",
        "\n",
        "# Proses Update nilai list pada indeks 3\n",
        "ist[3] = 2018\n",
        "print (\"Nilai baru ada pada index 3 adalah: \", ist[3])"
      ],
      "metadata": {
        "colab": {
          "base_uri": "https://localhost:8080/"
        },
        "id": "O1PVlmxYu8xq",
        "outputId": "543a1deb-b377-4a73-ad67-276e0b5b5b6e"
      },
      "execution_count": 13,
      "outputs": [
        {
          "output_type": "stream",
          "name": "stdout",
          "text": [
            "Nilai ada pada index 3 adalah:  2019\n",
            "Nilai baru ada pada index 3 adalah:  2018\n"
          ]
        }
      ]
    },
    {
      "cell_type": "markdown",
      "source": [
        "**Menghapus Nilai pada List**"
      ],
      "metadata": {
        "id": "5nyp5lOfwpBg"
      }
    },
    {
      "cell_type": "code",
      "source": [
        "# Pembuatan list\n",
        "list = ['bahasa arab', 'bahasa aceh', 'bahasa inggris', 2019, 2020]\n",
        "print (\"Daftar list sebelum dihapus:\", list)\n",
        "\n",
        "# Proses menghapus nilai List pada indeks 2\n",
        "del list[2]\n",
        "print (\"Setelah dihapus nilai pada index 2 : \", list)"
      ],
      "metadata": {
        "colab": {
          "base_uri": "https://localhost:8080/"
        },
        "id": "ycGyGCi9woPV",
        "outputId": "93e75d3e-db17-4321-f049-488de92f6a42"
      },
      "execution_count": 15,
      "outputs": [
        {
          "output_type": "stream",
          "name": "stdout",
          "text": [
            "Daftar list sebelum dihapus: ['bahasa arab', 'bahasa aceh', 'bahasa inggris', 2019, 2020]\n",
            "Setelah dihapus nilai pada index 2 :  ['bahasa arab', 'bahasa aceh', 2019, 2020]\n"
          ]
        }
      ]
    }
  ]
}