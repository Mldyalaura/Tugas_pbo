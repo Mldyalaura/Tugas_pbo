{
  "nbformat": 4,
  "nbformat_minor": 0,
  "metadata": {
    "colab": {
      "provenance": [],
      "authorship_tag": "ABX9TyOIvcwfbt/56JsQCYr7PrUV",
      "include_colab_link": true
    },
    "kernelspec": {
      "name": "python3",
      "display_name": "Python 3"
    },
    "language_info": {
      "name": "python"
    }
  },
  "cells": [
    {
      "cell_type": "markdown",
      "metadata": {
        "id": "view-in-github",
        "colab_type": "text"
      },
      "source": [
        "<a href=\"https://colab.research.google.com/github/Mldyalaura/Tugas_pbo/blob/main/Tugas1/sesi3.ipynb\" target=\"_parent\"><img src=\"https://colab.research.google.com/assets/colab-badge.svg\" alt=\"Open In Colab\"/></a>"
      ]
    },
    {
      "cell_type": "markdown",
      "source": [
        "Contoh sederhana perulangan for"
      ],
      "metadata": {
        "id": "yGV-HngjoGXD"
      }
    },
    {
      "cell_type": "code",
      "execution_count": 3,
      "metadata": {
        "colab": {
          "base_uri": "https://localhost:8080/"
        },
        "id": "si6oChpFnwTM",
        "outputId": "2612b657-dbf7-4a92-f070-9fe09770fa6c"
      },
      "outputs": [
        {
          "output_type": "stream",
          "name": "stdout",
          "text": [
            "Perulangan ke-0\n",
            "Perulangan ke-1\n",
            "Perulangan ke-2\n",
            "Perulangan ke-3\n",
            "Perulangan ke-4\n",
            "Perulangan ke-5\n",
            "Perulangan ke-6\n",
            "Perulangan ke-7\n",
            "Perulangan ke-8\n",
            "6\n",
            "7\n",
            "8\n",
            "9\n"
          ]
        }
      ],
      "source": [
        "# Deklarasi variabel contoh dan 9 itu sebagai tanda 9 kali perulangan\n",
        "contoh = 9\n",
        "\n",
        "# Variabel i berfungsi untuk menampung indeks,\n",
        "# dan fungsi range() berfungsi untuk membuat list dari 0-9.\n",
        "for i in range(contoh):\n",
        "    print (\"Perulangan ke-\" +str(i))\n",
        "\n",
        "# Menampilkan range dari kumpulan deret tertentu\n",
        "# range(5,10) akan membuat deret angka mulai dari 6, 7, 8, dan 9.\n",
        "\n",
        "for i in range(6,10):\n",
        "  print(i)"
      ]
    },
    {
      "cell_type": "markdown",
      "source": [
        "Contoh menampilkan isi dalam body perulangan"
      ],
      "metadata": {
        "id": "LACwsYkhoL0h"
      }
    },
    {
      "cell_type": "code",
      "source": [
        "# Deklarasi variabel contoh2 dengan tipe list\n",
        "contoh2 = ['saya','suka','minum','jus', 'alpukat']\n",
        "\n",
        "for isi in contoh2:\n",
        "    print (isi)"
      ],
      "metadata": {
        "colab": {
          "base_uri": "https://localhost:8080/"
        },
        "id": "JqPRymxYoadb",
        "outputId": "e5b6956f-d71d-4049-f3a5-7bb80e7bbda9"
      },
      "execution_count": 4,
      "outputs": [
        {
          "output_type": "stream",
          "name": "stdout",
          "text": [
            "saya\n",
            "suka\n",
            "minum\n",
            "jus\n",
            "alpukat\n"
          ]
        }
      ]
    },
    {
      "cell_type": "markdown",
      "source": [
        "Contoh menggunakan while"
      ],
      "metadata": {
        "id": "kdPBYFjsod6d"
      }
    },
    {
      "cell_type": "code",
      "source": [
        "# Deklarasi variabel hit\n",
        "hit = 0\n",
        "# Membuat kondisi\n",
        "while (hit < 6):\n",
        "    print(hit, \"kurang dari 6\")\n",
        "    hit = hit + 1\n",
        "else:\n",
        "# Menampilkan output salam jika kondisi sudah terpenuhi\n",
        "    print(\"Salammmm\")"
      ],
      "metadata": {
        "colab": {
          "base_uri": "https://localhost:8080/"
        },
        "id": "npFDJHX_ohNf",
        "outputId": "a2f65302-9e6f-4c09-d55c-0b4330c91aba"
      },
      "execution_count": 5,
      "outputs": [
        {
          "output_type": "stream",
          "name": "stdout",
          "text": [
            "0 kurang dari 6\n",
            "1 kurang dari 6\n",
            "2 kurang dari 6\n",
            "3 kurang dari 6\n",
            "4 kurang dari 6\n",
            "5 kurang dari 6\n",
            "Salammmm\n"
          ]
        }
      ]
    },
    {
      "cell_type": "markdown",
      "source": [
        "Program Menghitung Harga Tiket Masuk"
      ],
      "metadata": {
        "id": "jv4t7npnp3mU"
      }
    },
    {
      "cell_type": "code",
      "source": [
        "# Program menghitung Faktor Persekutuan Terbesar\n",
        "\n",
        "# Membaca dua bilangan positif dari user\n",
        "n = int(input(\"Masukkan bilangan positif:\"))\n",
        "m = int(input(\"Masukkan bilangan positif:\"))\n",
        "\n",
        "# Inisialisasi variabel untuk nilai terkecil dari n dan m\n",
        "d = min(n, m)\n",
        "\n",
        "# Gunakan loop while untuk mencari FPT\n",
        "while n % d != 0 or m % d != 0:\n",
        "  d = d - 1\n",
        "\n",
        "# Menampilkan hasil\n",
        "print(\"Faktor persekutuan terbesar dari\", n, \"dan\", m, \" adalah\", d)"
      ],
      "metadata": {
        "colab": {
          "base_uri": "https://localhost:8080/"
        },
        "id": "aaY7zXVFp5AL",
        "outputId": "d1af4be4-48e8-4d14-b694-e9fe8cf135f6"
      },
      "execution_count": 7,
      "outputs": [
        {
          "output_type": "stream",
          "name": "stdout",
          "text": [
            "Masukkan bilangan positif:2\n",
            "Masukkan bilangan positif:4\n",
            "Faktor persekutuan terbesar dari 2 dan 4  adalah 2\n"
          ]
        }
      ]
    },
    {
      "cell_type": "markdown",
      "source": [
        "Program Mencari Nilai Maksimum dari 100 bilangan bulat"
      ],
      "metadata": {
        "id": "5Yibp5jLqRYZ"
      }
    },
    {
      "cell_type": "code",
      "source": [
        "# Menentukan nilai maksimum 100 bilangan bulat, menghitung berapa kali\n",
        "# perulangan\n",
        "\n",
        "from random import randrange\n",
        "\n",
        "BIL_ITEMS = 100\n",
        "\n",
        "# Generate the first number and menampilkan nya\n",
        "maks_nilai = randrange(1, BIL_ITEMS + 1)\n",
        "print(maks_nilai)\n",
        "\n",
        "# Menghitung berapa kali perubahan\n",
        "bil_update = 0\n",
        "\n",
        "# Untuk setiap bilangan\n",
        "for i in range(1, BIL_ITEMS):\n",
        "  # Generate bilangan acak\n",
        "  current = randrange(1, BIL_ITEMS + 1)\n",
        "\n",
        "  # Kondisi jika ditemukan bilangan terbesar\n",
        "  if current > maks_nilai:\n",
        "    # Update nilai maksimum dan hitung perubahan\n",
        "    maks_nilai = current\n",
        "    bil_update = bil_update + 1\n",
        "    # Tampilkan bilangan jika masih ada proses update\n",
        "    print(current, \"<== Update\")\n",
        "  else:\n",
        "    #Tampilkan bilangan\n",
        "    print(current)\n",
        "\n",
        "# Tampilkan Hasil Terakhir\n",
        "print(\" Nilai maksimum yang ditemukan adalah\", maks_nilai)\n",
        "print(\"Nilai maksimum yang di-update\", bil_update, \"kali\")"
      ],
      "metadata": {
        "colab": {
          "base_uri": "https://localhost:8080/"
        },
        "id": "vQ5icNuhqSQd",
        "outputId": "3ccab572-1859-4a43-8966-dc2395d34717"
      },
      "execution_count": 8,
      "outputs": [
        {
          "output_type": "stream",
          "name": "stdout",
          "text": [
            "7\n",
            "80 <== Update\n",
            "31\n",
            "72\n",
            "55\n",
            "6\n",
            "83 <== Update\n",
            "89 <== Update\n",
            "2\n",
            "46\n",
            "9\n",
            "68\n",
            "32\n",
            "11\n",
            "70\n",
            "78\n",
            "30\n",
            "97 <== Update\n",
            "37\n",
            "7\n",
            "73\n",
            "65\n",
            "38\n",
            "13\n",
            "43\n",
            "27\n",
            "64\n",
            "40\n",
            "56\n",
            "22\n",
            "49\n",
            "55\n",
            "42\n",
            "91\n",
            "60\n",
            "82\n",
            "52\n",
            "36\n",
            "86\n",
            "58\n",
            "48\n",
            "28\n",
            "16\n",
            "44\n",
            "46\n",
            "80\n",
            "85\n",
            "55\n",
            "67\n",
            "96\n",
            "25\n",
            "89\n",
            "53\n",
            "88\n",
            "58\n",
            "62\n",
            "16\n",
            "32\n",
            "46\n",
            "3\n",
            "50\n",
            "22\n",
            "40\n",
            "53\n",
            "98 <== Update\n",
            "52\n",
            "60\n",
            "16\n",
            "67\n",
            "25\n",
            "50\n",
            "100 <== Update\n",
            "89\n",
            "52\n",
            "65\n",
            "44\n",
            "72\n",
            "14\n",
            "20\n",
            "70\n",
            "95\n",
            "38\n",
            "92\n",
            "25\n",
            "37\n",
            "96\n",
            "16\n",
            "37\n",
            "24\n",
            "84\n",
            "73\n",
            "46\n",
            "92\n",
            "100\n",
            "11\n",
            "80\n",
            "82\n",
            "76\n",
            "61\n",
            "94\n",
            " Nilai maksimum yang ditemukan adalah 100\n",
            "Nilai maksimum yang di-update 6 kali\n"
          ]
        }
      ]
    }
  ]
}