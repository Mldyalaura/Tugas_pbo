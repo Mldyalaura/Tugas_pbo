{
  "cells": [
    {
      "cell_type": "markdown",
      "metadata": {
        "id": "view-in-github",
        "colab_type": "text"
      },
      "source": [
        "<a href=\"https://colab.research.google.com/github/Mldyalaura/Tugas_pbo/blob/main/Tugas1/sesi2.ipynb\" target=\"_parent\"><img src=\"https://colab.research.google.com/assets/colab-badge.svg\" alt=\"Open In Colab\"/></a>"
      ]
    },
    {
      "cell_type": "markdown",
      "source": [
        "Menentukan apakah suatu bilangan genap atau ganjil"
      ],
      "metadata": {
        "id": "3y9qNI48isFB"
      }
    },
    {
      "cell_type": "code",
      "source": [
        "# Program untuk menentukan apakah sebuah bilangan yang diinput ganjil atau genap\n",
        "\n",
        "# Membaca bilangan yang dimasukkan user\n",
        "bil = int(input(\"Masukkan sebuah bilangan:\"))\n",
        "\n",
        "# Proses untuk menentukan bilangan tersebut ganjil atau genap\n",
        "# Menggunakan operator modulus\n",
        "if bil % 2 == 1:\n",
        "  print(bil, \"adalah bilangan ganjil\")\n",
        "else:\n",
        "  print(bil, \"adalah bilangan genap\")"
      ],
      "metadata": {
        "colab": {
          "base_uri": "https://localhost:8080/"
        },
        "id": "yHhkAGviisrY",
        "outputId": "05b2d2fb-d7bb-4995-a484-363c85019fc3"
      },
      "execution_count": 2,
      "outputs": [
        {
          "output_type": "stream",
          "name": "stdout",
          "text": [
            "Masukkan sebuah bilangan:3\n",
            "3 adalah bilangan ganjil\n"
          ]
        }
      ]
    },
    {
      "cell_type": "markdown",
      "source": [
        "Menentukan suatu huruf vokal atau konsonan"
      ],
      "metadata": {
        "id": "P5jufjH2jRDi"
      }
    },
    {
      "cell_type": "code",
      "source": [
        "# Program untuk menentukan apakah huruf tersebut vokal atau konsonan\n",
        "# Dalam Ejaan Bahasa Inggris\n",
        "\n",
        "# Membaca huruf yang dimasukkan user\n",
        "hur= input(\"Masukkan sebuah huruf dari kumpulan abjad:\")\n",
        "\n",
        "#Proses menentukan huruf dan menampilkan hasilnya\n",
        "if hur ==\"a\" or hur == \"e\" or \\\n",
        "   hur ==\"i\" or hur == \"o\" or \\\n",
        "   hur ==\"u\":\n",
        "  print(\"Ini adalah vokal.\")\n",
        "elif hur ==\"y\":\n",
        "  print(\"Kadang vokal...kadang konsonan\")\n",
        "else:\n",
        "  print(\"Ini adalah konsonan.\")"
      ],
      "metadata": {
        "id": "DVRBwTNLjSQ5",
        "outputId": "a80107d0-fbc1-41b8-b47d-86f43c0de902",
        "colab": {
          "base_uri": "https://localhost:8080/"
        }
      },
      "execution_count": 3,
      "outputs": [
        {
          "output_type": "stream",
          "name": "stdout",
          "text": [
            "Masukkan sebuah huruf dari kumpulan abjad:b\n",
            "Ini adalah konsonan.\n"
          ]
        }
      ]
    },
    {
      "cell_type": "markdown",
      "source": [],
      "metadata": {
        "id": "B5RTcCtqjipR"
      }
    },
    {
      "cell_type": "markdown",
      "metadata": {
        "id": "nDaOdiH5-yhD"
      },
      "source": [
        "**Program Menentukan nama Ukuran geometri berdasarkan sisinya**"
      ]
    },
    {
      "cell_type": "code",
      "source": [
        "# Menampilkan nama ukuran geometri berdasarkan jumlah sisi yang diinput\n",
        "\n",
        "# Membaca jumlah sisi yang diinput oleh user\n",
        "sisi = int(input(\"Masukkan jumlah sisinya:\"))\n",
        "\n",
        "# Menampilkan nama ukuran geometri tersebut\n",
        "nama = \"\"\n",
        "if sisi == 3:\n",
        "  nama = \"triangle\"\n",
        "elif sisi == 4:\n",
        "  nama = \"quadrilateral\"\n",
        "elif sisi == 5:\n",
        "  nama = \"pentagon\"\n",
        "elif sisi == 6:\n",
        "  nama = \"hexagon\"\n",
        "elif sisi == 7:\n",
        "  nama = \"heptagon\"\n",
        "elif sisi == 8:\n",
        "  nama = \"ocatagon\"\n",
        "elif sisi == 9:\n",
        "  nama = \"nonagon\"\n",
        "elif sisi == 10:\n",
        "  nama = \"decagon\"\n",
        "\n",
        "# Menampilkan pesan kesalahan atau nama dari ruang geometri\n",
        "if nama == \"\":\n",
        "  print(\"Jumlah sisi yang diinput tidak ada dalam database\")\n",
        "else:\n",
        "  print(\"Ini adalah\", nama)\n"
      ],
      "metadata": {
        "id": "P7i9PJ2sjzcZ",
        "outputId": "7cca59d7-576d-4c9c-8dcf-e2829963b5b6",
        "colab": {
          "base_uri": "https://localhost:8080/"
        }
      },
      "execution_count": 4,
      "outputs": [
        {
          "output_type": "stream",
          "name": "stdout",
          "text": [
            "Masukkan jumlah sisinya:4\n",
            "Ini adalah quadrilateral\n"
          ]
        }
      ]
    },
    {
      "cell_type": "markdown",
      "source": [
        "Program menampilkan 4 musim berdasarkan bulan dan tanggal"
      ],
      "metadata": {
        "id": "1fqIofSzkAUa"
      }
    },
    {
      "cell_type": "code",
      "source": [
        "# Menentukan dan menampilkan nama musim berdasarkan tanggal\n",
        "\n",
        "# Membaca tanggal yang diinput oleh user\n",
        "bulan = input(\"masukkan nama bulan:\")\n",
        "tgl = int(input(\"masukkan tanggal dibulan tersebut:\"))\n",
        "\n",
        "# Proses menentukan nama musim\n",
        "# Initialize musim to a default value to handle cases where none of the conditions match\n",
        "musim = \"Unknown\"  # Or any other suitable default value\n",
        "\n",
        "if bulan == \"Januari\" or bulan == \"Februari\":\n",
        "    musim = \"Winter\"\n",
        "elif bulan == \"Maret\":\n",
        "    if tgl < 20:\n",
        "        musim = \"Winter\"\n",
        "    else:\n",
        "        musim = \"Spring\"\n",
        "elif bulan == \"April\" or bulan == \"Mei\":\n",
        "    musim = \"Spring\"\n",
        "elif bulan == \"Juni\":\n",
        "    if tgl < 21:\n",
        "        musim = \"Spring\"\n",
        "    else:\n",
        "        musim = \"Summer\"\n",
        "elif bulan == \"Juli\" or bulan == \"Agustus\":\n",
        "    musim = \"Summer\"\n",
        "elif bulan == \"September\":\n",
        "    if tgl < 22:\n",
        "        musim = \"Summer\"\n",
        "    else:\n",
        "        musim = \"Fall\"\n",
        "elif bulan == \"Oktober\" or bulan == \"November\":\n",
        "    musim = \"Fall\"\n",
        "elif bulan == \"Desember\":\n",
        "    if tgl < 21:\n",
        "        musim = \"Fall\"\n",
        "    else:\n",
        "        musim = \"Winter\"\n",
        "\n",
        "\n",
        "# Tampilkan hasil\n",
        "print(tgl, bulan, \"adalah dalam musim\", musim)"
      ],
      "metadata": {
        "id": "8vj8vkEtkExI",
        "outputId": "2de5baa9-85a7-433b-bf23-323b7c6b81b0",
        "colab": {
          "base_uri": "https://localhost:8080/"
        }
      },
      "execution_count": 7,
      "outputs": [
        {
          "output_type": "stream",
          "name": "stdout",
          "text": [
            "masukkan nama bulan:April\n",
            "masukkan tanggal dibulan tersebut:24\n",
            "24 April adalah dalam musim Spring\n"
          ]
        }
      ]
    }
  ],
  "metadata": {
    "colab": {
      "name": "Welcome To Colab",
      "provenance": [],
      "include_colab_link": true
    },
    "kernelspec": {
      "display_name": "Python 3",
      "name": "python3"
    }
  },
  "nbformat": 4,
  "nbformat_minor": 0
}