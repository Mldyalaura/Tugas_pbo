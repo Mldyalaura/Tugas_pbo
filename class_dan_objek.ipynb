{
  "nbformat": 4,
  "nbformat_minor": 0,
  "metadata": {
    "colab": {
      "provenance": [],
      "authorship_tag": "ABX9TyPXRvafFVDIQ/SehVsYlqk6",
      "include_colab_link": true
    },
    "kernelspec": {
      "name": "python3",
      "display_name": "Python 3"
    },
    "language_info": {
      "name": "python"
    }
  },
  "cells": [
    {
      "cell_type": "markdown",
      "metadata": {
        "id": "view-in-github",
        "colab_type": "text"
      },
      "source": [
        "<a href=\"https://colab.research.google.com/github/Mldyalaura/Tugas_pbo/blob/main/class_dan_objek.ipynb\" target=\"_parent\"><img src=\"https://colab.research.google.com/assets/colab-badge.svg\" alt=\"Open In Colab\"/></a>"
      ]
    },
    {
      "cell_type": "code",
      "execution_count": 1,
      "metadata": {
        "colab": {
          "base_uri": "https://localhost:8080/"
        },
        "id": "NT7BN_sIA6Py",
        "outputId": "1235b8dc-68d6-4439-95f4-29b69f02e8bd"
      },
      "outputs": [
        {
          "output_type": "stream",
          "name": "stdout",
          "text": [
            "Mahasiswa Maulidya Laura dengan NIM 230705015 telah mencetak KRS.\n"
          ]
        }
      ],
      "source": [
        "class Mahasiswa:\n",
        "    def __init__(self, nama, nim):\n",
        "        self.nama = nama\n",
        "        self.nim = nim\n",
        "\n",
        "    def cetak_krs(self):\n",
        "        print(f\"Mahasiswa {self.nama} dengan NIM {self.nim} telah mencetak KRS.\")\n",
        "\n",
        "# Membuat objek mhs dari kelas Mahasiswa\n",
        "mhs = Mahasiswa(\"Maulidya Laura\", \"230705015\")\n",
        "mhs.cetak_krs()\n"
      ]
    },
    {
      "cell_type": "code",
      "source": [
        "import math\n",
        "\n",
        "class Lingkaran:\n",
        "    def __init__(self, radius):\n",
        "        self.radius = radius\n",
        "\n",
        "    def hitung_luas(self):\n",
        "        return math.pi * self.radius ** 2\n",
        "\n",
        "# Membuat objek blt dari kelas Lingkaran\n",
        "blt = Lingkaran(10)\n",
        "print(f\"Luas lingkaran dengan radius {blt.radius} adalah {blt.hitung_luas():.2f}\")\n"
      ],
      "metadata": {
        "colab": {
          "base_uri": "https://localhost:8080/"
        },
        "id": "b1CPBXkZDcq4",
        "outputId": "38f63016-2ae6-49d5-e67d-ac267437f64e"
      },
      "execution_count": 2,
      "outputs": [
        {
          "output_type": "stream",
          "name": "stdout",
          "text": [
            "Luas lingkaran dengan radius 10 adalah 314.16\n"
          ]
        }
      ]
    },
    {
      "cell_type": "code",
      "source": [
        "class Mobil:\n",
        "    def __init__(self, merek, kecepatan):\n",
        "        self.merek = merek\n",
        "        self.kecepatan = kecepatan\n",
        "\n",
        "    def jalan(self):\n",
        "        print(f\"Mobil {self.merek} sedang berjalan dengan kecepatan {self.kecepatan} km/jam.\")\n",
        "\n",
        "# Membuat objek avanza dari kelas Mobil\n",
        "avanza = Mobil(\"Toyota Avanza\", 80)\n",
        "avanza.jalan()\n"
      ],
      "metadata": {
        "colab": {
          "base_uri": "https://localhost:8080/"
        },
        "id": "NGOpF3U2DosJ",
        "outputId": "c7138fb5-b971-4cf9-86b6-1694f153f8b1"
      },
      "execution_count": 3,
      "outputs": [
        {
          "output_type": "stream",
          "name": "stdout",
          "text": [
            "Mobil Toyota Avanza sedang berjalan dengan kecepatan 80 km/jam.\n"
          ]
        }
      ]
    },
    {
      "cell_type": "code",
      "source": [
        "class Persegi:\n",
        "    def __init__(self, sisi):\n",
        "        self.sisi = sisi\n",
        "\n",
        "    def hitung_keliling(self):\n",
        "        return 4 * self.sisi\n",
        "\n",
        "# Membuat objek kotak dari kelas Persegi\n",
        "kotak = Persegi(5)\n",
        "print(f\"Keliling persegi dengan sisi {kotak.sisi} adalah {kotak.hitung_keliling()}\")\n"
      ],
      "metadata": {
        "colab": {
          "base_uri": "https://localhost:8080/"
        },
        "id": "jgU1Coj6Dtmg",
        "outputId": "95a60daa-7de9-4fbd-ce8b-fb4e0467f5f4"
      },
      "execution_count": 4,
      "outputs": [
        {
          "output_type": "stream",
          "name": "stdout",
          "text": [
            "Keliling persegi dengan sisi 5 adalah 20\n"
          ]
        }
      ]
    },
    {
      "cell_type": "code",
      "source": [
        "class Karyawan:\n",
        "    def __init__(self, nama, gaji):\n",
        "        self.nama = nama\n",
        "        self.gaji = gaji\n",
        "\n",
        "    def tampilkan_gaji(self):\n",
        "        print(f\"Karyawan {self.nama} memiliki gaji sebesar Rp{self.gaji:,}\")\n",
        "\n",
        "# Membuat objek pegawai dari kelas Karyawan\n",
        "pegawai = Karyawan(\"Maulidya Laura\", 5000000)\n",
        "pegawai.tampilkan_gaji()\n"
      ],
      "metadata": {
        "colab": {
          "base_uri": "https://localhost:8080/"
        },
        "id": "JqqETAC4DyZQ",
        "outputId": "f432e485-b4e3-4c07-fa81-491571c223f0"
      },
      "execution_count": 5,
      "outputs": [
        {
          "output_type": "stream",
          "name": "stdout",
          "text": [
            "Karyawan Maulidya Laura memiliki gaji sebesar Rp5,000,000\n"
          ]
        }
      ]
    }
  ]
}